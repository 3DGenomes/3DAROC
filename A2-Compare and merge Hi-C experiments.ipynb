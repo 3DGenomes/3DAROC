{
 "cells": [
  {
   "cell_type": "markdown",
   "metadata": {},
   "source": [
    "# Table of Contents\n",
    "* [Comparison of Hi-C experiments](#Comparison-of-Hi-C-experiments)\n",
    "\t* &nbsp;\n",
    "\t\t* [Between conditions](#Between-conditions)\n",
    "\t\t\t* [HindIII](#HindIII)\n",
    "\t\t\t* [NcoI](#NcoI)\n",
    "\t\t* [Between technical replicates (different restriction enzymes)](#Between-technical-replicates-%28different-restriction-enzymes%29)\n",
    "\t\t\t* [T0](#T0)\n",
    "\t\t\t* [T60](#T60)\n"
   ]
  },
  {
   "cell_type": "markdown",
   "metadata": {},
   "source": [
    "# Comparison of Hi-C experiments"
   ]
  },
  {
   "cell_type": "code",
   "execution_count": 32,
   "metadata": {
    "collapsed": false
   },
   "outputs": [],
   "source": [
    "from pytadbit.mapping.analyze import eig_correlate_matrices, correlate_matrices\n",
    "from pytadbit import load_hic_data_from_reads\n",
    "from matplotlib import pyplot as plt"
   ]
  },
  {
   "cell_type": "code",
   "execution_count": 33,
   "metadata": {
    "collapsed": true
   },
   "outputs": [],
   "source": [
    "reso = 200000"
   ]
  },
  {
   "cell_type": "markdown",
   "metadata": {},
   "source": [
    "### Between conditions"
   ]
  },
  {
   "cell_type": "markdown",
   "metadata": {},
   "source": [
    "#### HindIII"
   ]
  },
  {
   "cell_type": "code",
   "execution_count": null,
   "metadata": {
    "collapsed": true
   },
   "outputs": [],
   "source": [
    "renz1 = 'HindIII'\n",
    "renz2 = 'HindIII'\n",
    "rep1  = 'T0'\n",
    "rep2  = 'T60'"
   ]
  },
  {
   "cell_type": "code",
   "execution_count": null,
   "metadata": {
    "collapsed": true
   },
   "outputs": [],
   "source": [
    "hic_data1 = load_hic_data_from_reads(\n",
    "    'results/fragment/{0}_{1}/03_filtering/valid_reads12_{0}_{1}.tsv'.format(renz1, rep1),\n",
    "    resolution=reso)\n",
    "hic_data2 = load_hic_data_from_reads(\n",
    "    'results/fragment/{0}_{1}/03_filtering/valid_reads12_{0}_{1}.tsv'.format(renz2, rep2),\n",
    "    resolution=reso)"
   ]
  },
  {
   "cell_type": "code",
   "execution_count": null,
   "metadata": {
    "collapsed": false,
    "scrolled": false
   },
   "outputs": [],
   "source": [
    "## this part is to \"tune\" the plot ##\n",
    "plt.figure(figsize=(9, 6))\n",
    "axe = plt.subplot()\n",
    "axe.grid()\n",
    "axe.set_xticks(range(0, 55, 5))\n",
    "axe.set_xticklabels(['%d Mb' % int(i * 0.2) if i else '' for i in range(0, 55, 5)], rotation=-45)\n",
    "#####################################\n",
    "\n",
    "_ = correlate_matrices(hic_data1, hic_data2, max_dist=50, show=False, axe=axe)"
   ]
  },
  {
   "cell_type": "code",
   "execution_count": null,
   "metadata": {
    "collapsed": false
   },
   "outputs": [],
   "source": [
    "corrs = eig_correlate_matrices(hic_data1, hic_data2, show=True, aspect='auto')\n",
    "\n",
    "for cor in corrs:\n",
    "    print ' '.join(['%5.3f' % (c) for c in cor]) + '\\n'"
   ]
  },
  {
   "cell_type": "markdown",
   "metadata": {},
   "source": [
    "#### NcoI"
   ]
  },
  {
   "cell_type": "code",
   "execution_count": null,
   "metadata": {
    "collapsed": true
   },
   "outputs": [],
   "source": [
    "renz1 = 'NcoI'\n",
    "renz2 = 'NcoI'\n",
    "rep1  = 'T0'\n",
    "rep2  = 'T60'"
   ]
  },
  {
   "cell_type": "code",
   "execution_count": null,
   "metadata": {
    "collapsed": true
   },
   "outputs": [],
   "source": [
    "hic_data1 = load_hic_data_from_reads(\n",
    "    'results/fragment/{0}_{1}/03_filtering/valid_reads12_{0}_{1}.tsv'.format(renz1, rep1),\n",
    "    resolution=reso)\n",
    "hic_data2 = load_hic_data_from_reads(\n",
    "    'results/fragment/{0}_{1}/03_filtering/valid_reads12_{0}_{1}.tsv'.format(renz2, rep2),\n",
    "    resolution=reso)"
   ]
  },
  {
   "cell_type": "code",
   "execution_count": null,
   "metadata": {
    "collapsed": false,
    "scrolled": false
   },
   "outputs": [],
   "source": [
    "## this part is to \"tune\" the plot ##\n",
    "plt.figure(figsize=(9, 6))\n",
    "axe = plt.subplot()\n",
    "axe.grid()\n",
    "axe.set_xticks(range(0, 55, 5))\n",
    "axe.set_xticklabels(['%d Mb' % int(i * 0.2) if i else '' for i in range(0, 55, 5)], rotation=-45)\n",
    "#####################################\n",
    "\n",
    "_ = correlate_matrices(hic_data1, hic_data2, max_dist=50, show=False, axe=axe)"
   ]
  },
  {
   "cell_type": "code",
   "execution_count": null,
   "metadata": {
    "collapsed": false
   },
   "outputs": [],
   "source": [
    "corrs = eig_correlate_matrices(hic_data1, hic_data2, show=True, aspect='auto')\n",
    "\n",
    "for cor in corrs:\n",
    "    print ' '.join(['%5.3f' % (c) for c in cor]) + '\\n'"
   ]
  },
  {
   "cell_type": "markdown",
   "metadata": {},
   "source": [
    "### Between technical replicates (different restriction enzymes)"
   ]
  },
  {
   "cell_type": "markdown",
   "metadata": {},
   "source": [
    "#### T0"
   ]
  },
  {
   "cell_type": "code",
   "execution_count": null,
   "metadata": {
    "collapsed": true
   },
   "outputs": [],
   "source": [
    "renz1 = 'HindIII'\n",
    "renz2 = 'NcoI'\n",
    "rep1  = 'T0'\n",
    "rep2  = 'T0'"
   ]
  },
  {
   "cell_type": "code",
   "execution_count": null,
   "metadata": {
    "collapsed": true
   },
   "outputs": [],
   "source": [
    "hic_data1 = load_hic_data_from_reads(\n",
    "    'results/fragment/{0}_{1}/03_filtering/valid_reads12_{0}_{1}.tsv'.format(renz1, rep1),\n",
    "    resolution=reso)\n",
    "hic_data2 = load_hic_data_from_reads(\n",
    "    'results/fragment/{0}_{1}/03_filtering/valid_reads12_{0}_{1}.tsv'.format(renz2, rep2),\n",
    "    resolution=reso)"
   ]
  },
  {
   "cell_type": "code",
   "execution_count": null,
   "metadata": {
    "collapsed": false,
    "scrolled": false
   },
   "outputs": [],
   "source": [
    "## this part is to \"tune\" the plot ##\n",
    "plt.figure(figsize=(9, 6))\n",
    "axe = plt.subplot()\n",
    "axe.grid()\n",
    "axe.set_xticks(range(0, 55, 5))\n",
    "axe.set_xticklabels(['%d Mb' % int(i * 0.2) if i else '' for i in range(0, 55, 5)], rotation=-45)\n",
    "#####################################\n",
    "\n",
    "_ = correlate_matrices(hic_data1, hic_data2, max_dist=50, show=False, axe=axe)"
   ]
  },
  {
   "cell_type": "code",
   "execution_count": null,
   "metadata": {
    "collapsed": false
   },
   "outputs": [],
   "source": [
    "corrs = eig_correlate_matrices(hic_data1, hic_data2, show=True, aspect='auto')\n",
    "\n",
    "for cor in corrs:\n",
    "    print ' '.join(['%5.3f' % (c) for c in cor]) + '\\n'"
   ]
  },
  {
   "cell_type": "markdown",
   "metadata": {},
   "source": [
    "#### T60"
   ]
  },
  {
   "cell_type": "code",
   "execution_count": null,
   "metadata": {
    "collapsed": true
   },
   "outputs": [],
   "source": [
    "renz1 = 'HindIII'\n",
    "renz2 = 'NcoI'\n",
    "rep1  = 'T60'\n",
    "rep2  = 'T60'"
   ]
  },
  {
   "cell_type": "code",
   "execution_count": null,
   "metadata": {
    "collapsed": true
   },
   "outputs": [],
   "source": [
    "hic_data1 = load_hic_data_from_reads(\n",
    "    'results/fragment/{0}_{1}/03_filtering/valid_reads12_{0}_{1}.tsv'.format(renz1, rep1),\n",
    "    resolution=reso)\n",
    "hic_data2 = load_hic_data_from_reads(\n",
    "    'results/fragment/{0}_{1}/03_filtering/valid_reads12_{0}_{1}.tsv'.format(renz2, rep2),\n",
    "    resolution=reso)"
   ]
  },
  {
   "cell_type": "code",
   "execution_count": null,
   "metadata": {
    "collapsed": false,
    "scrolled": false
   },
   "outputs": [],
   "source": [
    "## this part is to \"tune\" the plot ##\n",
    "plt.figure(figsize=(9, 6))\n",
    "axe = plt.subplot()\n",
    "axe.grid()\n",
    "axe.set_xticks(range(0, 55, 5))\n",
    "axe.set_xticklabels(['%d Mb' % int(i * 0.2) if i else '' for i in range(0, 55, 5)], rotation=-45)\n",
    "#####################################\n",
    "\n",
    "_ = correlate_matrices(hic_data1, hic_data2, max_dist=50, show=False, axe=axe)"
   ]
  },
  {
   "cell_type": "code",
   "execution_count": null,
   "metadata": {
    "collapsed": false
   },
   "outputs": [],
   "source": [
    "corrs = eig_correlate_matrices(hic_data1, hic_data2, show=True, aspect='auto')\n",
    "\n",
    "for cor in corrs:\n",
    "    print ' '.join(['%5.3f' % (c) for c in cor]) + '\\n'"
   ]
  }
 ],
 "metadata": {
  "kernelspec": {
   "display_name": "Python 2",
   "language": "python",
   "name": "python2"
  },
  "language_info": {
   "codemirror_mode": {
    "name": "ipython",
    "version": 2
   },
   "file_extension": ".py",
   "mimetype": "text/x-python",
   "name": "python",
   "nbconvert_exporter": "python",
   "pygments_lexer": "ipython2",
   "version": "2.7.12"
  }
 },
 "nbformat": 4,
 "nbformat_minor": 0
}
