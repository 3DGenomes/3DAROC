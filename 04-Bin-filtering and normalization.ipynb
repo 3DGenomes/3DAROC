{
 "cells": [
  {
   "cell_type": "markdown",
   "metadata": {},
   "source": [
    "### The HiC_data object"
   ]
  },
  {
   "cell_type": "code",
   "execution_count": 1,
   "metadata": {
    "collapsed": false
   },
   "outputs": [
    {
     "name": "stderr",
     "output_type": "stream",
     "text": [
      "/home/fransua/.miniconda2/lib/python2.7/site-packages/matplotlib/__init__.py:1350: UserWarning:  This call to matplotlib.use() has no effect\n",
      "because the backend has already been chosen;\n",
      "matplotlib.use() must be called *before* pylab, matplotlib.pyplot,\n",
      "or matplotlib.backends is imported for the first time.\n",
      "\n",
      "  warnings.warn(_use_error_msg)\n"
     ]
    }
   ],
   "source": [
    "from pytadbit.parsers.hic_parser import load_hic_data_from_reads\n",
    "\n",
    "rep = 'T0'\n",
    "\n",
    "hic_data = load_hic_data_from_reads('results/fragment/reads12_HindIII_%s_filtered.tsv' % rep,\n",
    "                                    100000)"
   ]
  },
  {
   "cell_type": "markdown",
   "metadata": {},
   "source": [
    "# Filter columns with too few interaction count"
   ]
  },
  {
   "cell_type": "code",
   "execution_count": 2,
   "metadata": {
    "collapsed": false
   },
   "outputs": [
    {
     "name": "stderr",
     "output_type": "stream",
     "text": [
      "WARNING: Too many zeroes to filter columns. SKIPPING...\n"
     ]
    },
    {
     "data": {
      "image/png": "[encoded data removed]",
      "text/plain": [
       "<matplotlib.figure.Figure at 0x7f6804166c10>"
      ]
     },
     "metadata": {},
     "output_type": "display_data"
    }
   ],
   "source": [
    "from pytadbit.utils.hic_filtering import filter_by_mean\n",
    "\n",
    "bads = filter_by_mean(hic_data, draw_hist=True)"
   ]
  },
  {
   "cell_type": "markdown",
   "metadata": {},
   "source": [
    "# Normalization"
   ]
  },
  {
   "cell_type": "markdown",
   "metadata": {},
   "source": [
    "As normalization we use either the ICE normalization <a name=\"ref-1\"/>[(Imakaev et al., 2012)](#cite-Imakaev2012a) with a \"full\" normalization until the sum of all columns of the matrix are equal, or something more similar to the _vanilla_ normalization used in <a name=\"ref-2\"/>[(Rao et al., 2014)](#cite-Rao2014) which is exactly like running the ICE normalization without iterations.\n",
    "\n",
    "_Note: if columns with a lot of zeroes are present the ICE normalization will last very long to converge, and these low-coverage columns will present, at the end of the normalization, few cells with very high values of interaction_"
   ]
  },
  {
   "cell_type": "code",
   "execution_count": 3,
   "metadata": {
    "collapsed": false
   },
   "outputs": [
    {
     "name": "stdout",
     "output_type": "stream",
     "text": [
      "iterative correction\n",
      "  - copying matrix\n",
      "  - computing baises\n",
      "             1.000         382.580        2144.000    0   4.60405\n",
      "           150.584         419.294      146367.565    1 348.08093\n",
      "             1.201         437.060         691.415    2   0.99725\n",
      "           276.276         450.015      159033.760    3 352.39680\n",
      "             1.273         462.238         641.673    4   0.99725\n",
      "           332.980         474.303      167790.330    5 352.76185\n",
      "             1.341         486.544         628.346    6   0.99724\n",
      "           376.744         499.003      176562.931    7 352.83111\n",
      "             1.410         511.747         631.367    8   0.99724\n",
      "           414.790         524.779      185696.087    9 352.85585\n",
      "             1.483         538.127         643.280   10   0.99724\n"
     ]
    }
   ],
   "source": [
    "from pytadbit.utils.normalize_hic import iterative\n",
    "\n",
    "biases = iterative(hic_data, bads, verbose=True, max_dev=0.1, iterations=10)"
   ]
  },
  {
   "cell_type": "code",
   "execution_count": 5,
   "metadata": {
    "collapsed": false
   },
   "outputs": [
    {
     "name": "stderr",
     "output_type": "stream",
     "text": [
      "/home/fransua/.miniconda2/lib/python2.7/site-packages/pytadbit/mapping/analyze.py:155: UserWarning: WARNING: Matrix image not created, more than 10000 rows, use a lower resolution to create images\n",
      "  warn('WARNING: Matrix image not created, more than '\n"
     ]
    }
   ],
   "source": [
    "from pytadbit.mapping.analyze import hic_map\n",
    "\n",
    "hic_map(hic_data, biases=biases, show=True)"
   ]
  },
  {
   "cell_type": "markdown",
   "metadata": {},
   "source": [
    "### Other normalizations"
   ]
  },
  {
   "cell_type": "markdown",
   "metadata": {},
   "source": [
    "ICE normalization is widely used however other, more convaluted, normalizations <a name=\"ref-1\"/>[(Hu et al., 2012)](#cite-hu2012hicnorm) <a name=\"ref-2\"/>[(Yaffe and Tanay, 2011)](#cite-Yaffe2011) can be used outside TADbit and then added as normalized matrices."
   ]
  },
  {
   "cell_type": "markdown",
   "metadata": {},
   "source": [
    "## Save raw and normalized matrices"
   ]
  },
  {
   "cell_type": "markdown",
   "metadata": {},
   "source": [
    "<!--bibtex\n",
    "@article{hu2012hicnorm,\n",
    "  title={HiCNorm: removing biases in Hi-C data via Poisson regression},\n",
    "  author={Hu, Ming and Deng, Ke and Selvaraj, Siddarth and Qin, Zhaohui and Ren, Bing and Liu, Jun S},\n",
    "  journal={Bioinformatics},\n",
    "  volume={28},\n",
    "  number={23},\n",
    "  pages={3131--3133},\n",
    "  year={2012},\n",
    "  publisher={Oxford Univ Press}\n",
    "}\n",
    "@article{Yaffe2011,\n",
    "abstract = {Hi-C experiments measure the probability of physical proximity between pairs of chromosomal loci on a genomic scale. We report on several systematic biases that substantially affect the Hi-C experimental procedure, including the distance between restriction sites, the GC content of trimmed ligation junctions and sequence uniqueness. To address these biases, we introduce an integrated probabilistic background model and develop algorithms to estimate its parameters and renormalize Hi-C data. Analysis of corrected human lymphoblast contact maps provides genome-wide evidence for interchromosomal aggregation of active chromatin marks, including DNase-hypersensitive sites and transcriptionally active foci. We observe extensive long-range (up to 400 kb) cis interactions at active promoters and derive asymmetric contact profiles next to transcription start sites and CTCF binding sites. Clusters of interacting chromosomal domains suggest physical separation of centromere-proximal and centromere-distal regions. These results provide a computational basis for the inference of chromosomal architectures from Hi-C experiments.},\n",
    "author = {Yaffe, Eitan and Tanay, Amos},\n",
    "doi = {10.1038/ng.947},\n",
    "file = {:home/fransua/.local/share/data/Mendeley Ltd./Mendeley Desktop/Downloaded/Yaffe, Tanay - 2011 - Probabilistic modeling of Hi-C contact maps eliminates systematic biases to characterize global chromosomal archit.pdf:pdf},\n",
    "issn = {1546-1718},\n",
    "journal = {Nature genetics},\n",
    "keywords = {Binding Sites,Chromosomes,Cluster Analysis,Epigenesis,Genetic,Human,Humans,Lymphocytes,Lymphocytes: ultrastructure,Models,Probability},\n",
    "mendeley-groups = {Research articles},\n",
    "month = {nov},\n",
    "number = {11},\n",
    "pages = {1059--65},\n",
    "pmid = {22001755},\n",
    "title = {{Probabilistic modeling of Hi-C contact maps eliminates systematic biases to characterize global chromosomal architecture.}},\n",
    "url = {http://www.ncbi.nlm.nih.gov/pubmed/22001755},\n",
    "volume = {43},\n",
    "year = {2011}\n",
    "}\n",
    "@article{Imakaev2012a,\n",
    "abstract = {Extracting biologically meaningful information from chromosomal interactions obtained with genome-wide chromosome conformation capture (3C) analyses requires the elimination of systematic biases. We present a computational pipeline that integrates a strategy to map sequencing reads with a data-driven method for iterative correction of biases, yielding genome-wide maps of relative contact probabilities. We validate this ICE (iterative correction and eigenvector decomposition) technique on published data obtained by the high-throughput 3C method Hi-C, and we demonstrate that eigenvector decomposition of the obtained maps provides insights into local chromatin states, global patterns of chromosomal interactions, and the conserved organization of human and mouse chromosomes.},\n",
    "author = {Imakaev, Maxim V and Fudenberg, Geoffrey and McCord, Rachel Patton and Naumova, Natalia and Goloborodko, Anton and Lajoie, Bryan R and Dekker, Job and Mirny, Leonid A},\n",
    "doi = {10.1038/nmeth.2148},\n",
    "file = {:home/fransua/.local/share/data/Mendeley Ltd./Mendeley Desktop/Downloaded/Imakaev et al. - 2012 - Iterative correction of Hi-C data reveals hallmarks of chromosome organization.pdf:pdf},\n",
    "issn = {1548-7105},\n",
    "journal = {Nature methods},\n",
    "keywords = {Hi-C},\n",
    "mendeley-groups = {stats/Hi-C,Research articles},\n",
    "mendeley-tags = {Hi-C},\n",
    "month = {oct},\n",
    "number = {10},\n",
    "pages = {999--1003},\n",
    "pmid = {22941365},\n",
    "title = {{Iterative correction of Hi-C data reveals hallmarks of chromosome organization.}},\n",
    "url = {http://www.ncbi.nlm.nih.gov/pubmed/22941365},\n",
    "volume = {9},\n",
    "year = {2012}\n",
    "}\n",
    "@article{Rao2014,\n",
    "author = {Rao, Suhas S P and Huntley, Miriam H and Durand, Neva C and Stamenova, Elena K and Bochkov, Ivan D. and {James T. Robinson} and Sanborn, Adrian L. and Machol, Ido and Omer, Arina D. and Lander, Eric S. and Lieberman-Aiden, Erez},\n",
    "doi = {10.1016/j.cell.2014.11.021},\n",
    "file = {:home/fransua/.local/share/data/Mendeley Ltd./Mendeley Desktop/Downloaded/Rao et al. - 2014 - A 3D Map of the Human Genome at Kilobase Resolution Reveals Principles of Chromatin Looping.pdf:pdf},\n",
    "issn = {0092-8674},\n",
    "journal = {Cell},\n",
    "keywords = {Hi-C},\n",
    "mendeley-groups = {Research articles,projects/GEVO/CTCF},\n",
    "mendeley-tags = {Hi-C},\n",
    "number = {7},\n",
    "pages = {1665--1680},\n",
    "pmid = {25497547},\n",
    "publisher = {Elsevier Inc.},\n",
    "title = {{A 3D Map of the Human Genome at Kilobase Resolution Reveals Principles of Chromatin Looping}},\n",
    "url = {http://dx.doi.org/10.1016/j.cell.2014.11.021},\n",
    "volume = {159},\n",
    "year = {2014}\n",
    "}\n",
    "\n",
    "-->"
   ]
  },
  {
   "cell_type": "markdown",
   "metadata": {},
   "source": [
    "# References\n",
    "\n",
    "<a name=\"cite-Imakaev2012a\"/><sup>[^](#ref-1) </sup>Imakaev, Maxim V and Fudenberg, Geoffrey and McCord, Rachel Patton and Naumova, Natalia and Goloborodko, Anton and Lajoie, Bryan R and Dekker, Job and Mirny, Leonid A. 2012. _Iterative correction of Hi-C data reveals hallmarks of chromosome organization._. [URL](http://www.ncbi.nlm.nih.gov/pubmed/22941365)\n",
    "\n",
    "<a name=\"cite-Rao2014\"/><sup>[^](#ref-2) </sup>Rao, Suhas S P and Huntley, Miriam H and Durand, Neva C and Stamenova, Elena K and Bochkov, Ivan D. and James T. Robinson and Sanborn, Adrian L. and Machol, Ido and Omer, Arina D. and Lander, Eric S. and Lieberman-Aiden, Erez. 2014. _A 3D Map of the Human Genome at Kilobase Resolution Reveals Principles of Chromatin Looping_. [URL](http://dx.doi.org/10.1016/j.cell.2014.11.021)\n",
    "\n",
    "<a name=\"cite-hu2012hicnorm\"/><sup>[^](#ref-3) </sup>Hu, Ming and Deng, Ke and Selvaraj, Siddarth and Qin, Zhaohui and Ren, Bing and Liu, Jun S. 2012. _HiCNorm: removing biases in Hi-C data via Poisson regression_.\n",
    "\n",
    "<a name=\"cite-Yaffe2011\"/><sup>[^](#ref-4) </sup>Yaffe, Eitan and Tanay, Amos. 2011. _Probabilistic modeling of Hi-C contact maps eliminates systematic biases to characterize global chromosomal architecture._. [URL](http://www.ncbi.nlm.nih.gov/pubmed/22001755)\n",
    "\n"
   ]
  }
 ],
 "metadata": {
  "kernelspec": {
   "display_name": "Python 2",
   "language": "python",
   "name": "python2"
  },
  "language_info": {
   "codemirror_mode": {
    "name": "ipython",
    "version": 2
   },
   "file_extension": ".py",
   "mimetype": "text/x-python",
   "name": "python",
   "nbconvert_exporter": "python",
   "pygments_lexer": "ipython2",
   "version": "2.7.12"
  }
 },
 "nbformat": 4,
 "nbformat_minor": 0
}
