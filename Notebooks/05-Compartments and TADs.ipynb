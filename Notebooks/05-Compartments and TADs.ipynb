{
 "cells": [
  {
   "cell_type": "markdown",
   "metadata": {
    "toc": true
   },
   "source": [
    "<h1>Table of Contents<span class=\"tocSkip\"></span></h1>\n",
    "<div class=\"toc\" style=\"margin-top: 1em;\"><ul class=\"toc-item\"><li><span><a href=\"#Compartments\" data-toc-modified-id=\"Compartments-1\">Compartments</a></span></li><li><span><a href=\"#TADs\" data-toc-modified-id=\"TADs-2\">TADs</a></span><ul class=\"toc-item\"><li><span><a href=\"#Save-Chromosome-object-(with-TAD-definition)\" data-toc-modified-id=\"Save-Chromosome-object-(with-TAD-definition)-2.1\">Save Chromosome object (with TAD definition)</a></span></li></ul></li></ul></div>"
   ]
  },
  {
   "cell_type": "markdown",
   "metadata": {},
   "source": [
    "# Compartments"
   ]
  },
  {
   "cell_type": "markdown",
   "metadata": {},
   "source": [
    "Compartments are detected on the full genome matrix"
   ]
  },
  {
   "cell_type": "code",
   "execution_count": 2,
   "metadata": {},
   "outputs": [],
   "source": [
    "from pytadbit.parsers.hic_parser import load_hic_data_from_bam\n",
    "from pytadbit.parsers.genome_parser import get_gc_content, parse_fasta\n",
    "from pytadbit.utils.extraviews import nicer \n",
    "from cPickle import load"
   ]
  },
  {
   "cell_type": "code",
   "execution_count": 3,
   "metadata": {},
   "outputs": [],
   "source": [
    "cell   = 'mouse_B'"
   ]
  },
  {
   "cell_type": "code",
   "execution_count": 4,
   "metadata": {},
   "outputs": [],
   "source": [
    "reso = 200000\n",
    "base_path = 'results/fragment/{0}_both/03_filtering/valid_reads12_{0}.bam'\n",
    "bias_path = 'results/fragment/{1}_both/04_normalizing/biases_{0}_{1}.pick'\n",
    "bads_path = 'results/fragment/{1}_both/04_normalizing/bad_columns_{0}_{1}.pick'"
   ]
  },
  {
   "cell_type": "code",
   "execution_count": 5,
   "metadata": {},
   "outputs": [],
   "source": [
    "def my_load_hic_data(rep, reso):\n",
    "    hic_data = load_hic_data_from_bam(base_path.format(rep), resolution=reso, ncpus=8)\n",
    "    hic_data.bias = load(open(bias_path.format(rep, nicer(reso, ''))))\n",
    "    hic_data.bads = load(open(bads_path.format(rep, nicer(reso, ''))))\n",
    "    return hic_data"
   ]
  },
  {
   "cell_type": "code",
   "execution_count": 6,
   "metadata": {},
   "outputs": [
    {
     "name": "stdout",
     "output_type": "stream",
     "text": [
      "\n",
      "  (Matrix size 13641x13641)                                                    [2018-09-18 18:30:15]\n",
      "\n",
      "  - Parsing BAM (122 chunks)                                                   [2018-09-18 18:30:15]\n",
      "     .......... .......... .......... .......... ..........     50/122\n",
      "     .......... .......... .......... .......... ..........    100/122\n",
      "     .......... .......... ..                                  122/122\n",
      "\n",
      "  - Getting matrices                                                           [2018-09-18 18:30:37]\n",
      "     .......... .......... .......... .......... ..........     50/122\n",
      "     .......... .......... .......... .......... ..........    100/122\n",
      "     .......... .......... ..                                  122/122\n",
      "\n"
     ]
    },
    {
     "ename": "IOError",
     "evalue": "[Errno 2] No such file or directory: 'results/fragment/200kb_both/04_normalizing/biases_mouse_B_200kb.pick'",
     "output_type": "error",
     "traceback": [
      "\u001b[0;31m---------------------------------------------------------------------------\u001b[0m",
      "\u001b[0;31mIOError\u001b[0m                                   Traceback (most recent call last)",
      "\u001b[0;32m<ipython-input-6-614cc0e0915f>\u001b[0m in \u001b[0;36m<module>\u001b[0;34m()\u001b[0m\n\u001b[0;32m----> 1\u001b[0;31m \u001b[0mhic_data\u001b[0m \u001b[0;34m=\u001b[0m \u001b[0mmy_load_hic_data\u001b[0m\u001b[0;34m(\u001b[0m\u001b[0mcell\u001b[0m\u001b[0;34m,\u001b[0m \u001b[0mreso\u001b[0m\u001b[0;34m)\u001b[0m\u001b[0;34m\u001b[0m\u001b[0m\n\u001b[0m",
      "\u001b[0;32m<ipython-input-5-e5d1ec6d92f5>\u001b[0m in \u001b[0;36mmy_load_hic_data\u001b[0;34m(rep, reso)\u001b[0m\n\u001b[1;32m      1\u001b[0m \u001b[0;32mdef\u001b[0m \u001b[0mmy_load_hic_data\u001b[0m\u001b[0;34m(\u001b[0m\u001b[0mrep\u001b[0m\u001b[0;34m,\u001b[0m \u001b[0mreso\u001b[0m\u001b[0;34m)\u001b[0m\u001b[0;34m:\u001b[0m\u001b[0;34m\u001b[0m\u001b[0m\n\u001b[1;32m      2\u001b[0m     \u001b[0mhic_data\u001b[0m \u001b[0;34m=\u001b[0m \u001b[0mload_hic_data_from_bam\u001b[0m\u001b[0;34m(\u001b[0m\u001b[0mbase_path\u001b[0m\u001b[0;34m.\u001b[0m\u001b[0mformat\u001b[0m\u001b[0;34m(\u001b[0m\u001b[0mrep\u001b[0m\u001b[0;34m)\u001b[0m\u001b[0;34m,\u001b[0m \u001b[0mresolution\u001b[0m\u001b[0;34m=\u001b[0m\u001b[0mreso\u001b[0m\u001b[0;34m,\u001b[0m \u001b[0mncpus\u001b[0m\u001b[0;34m=\u001b[0m\u001b[0;36m8\u001b[0m\u001b[0;34m)\u001b[0m\u001b[0;34m\u001b[0m\u001b[0m\n\u001b[0;32m----> 3\u001b[0;31m     \u001b[0mhic_data\u001b[0m\u001b[0;34m.\u001b[0m\u001b[0mbias\u001b[0m \u001b[0;34m=\u001b[0m \u001b[0mload\u001b[0m\u001b[0;34m(\u001b[0m\u001b[0mopen\u001b[0m\u001b[0;34m(\u001b[0m\u001b[0mbias_path\u001b[0m\u001b[0;34m.\u001b[0m\u001b[0mformat\u001b[0m\u001b[0;34m(\u001b[0m\u001b[0mrep\u001b[0m\u001b[0;34m,\u001b[0m \u001b[0mnicer\u001b[0m\u001b[0;34m(\u001b[0m\u001b[0mreso\u001b[0m\u001b[0;34m,\u001b[0m \u001b[0;34m''\u001b[0m\u001b[0;34m)\u001b[0m\u001b[0;34m)\u001b[0m\u001b[0;34m)\u001b[0m\u001b[0;34m)\u001b[0m\u001b[0;34m\u001b[0m\u001b[0m\n\u001b[0m\u001b[1;32m      4\u001b[0m     \u001b[0mhic_data\u001b[0m\u001b[0;34m.\u001b[0m\u001b[0mbads\u001b[0m \u001b[0;34m=\u001b[0m \u001b[0mload\u001b[0m\u001b[0;34m(\u001b[0m\u001b[0mopen\u001b[0m\u001b[0;34m(\u001b[0m\u001b[0mbads_path\u001b[0m\u001b[0;34m.\u001b[0m\u001b[0mformat\u001b[0m\u001b[0;34m(\u001b[0m\u001b[0mrep\u001b[0m\u001b[0;34m,\u001b[0m \u001b[0mnicer\u001b[0m\u001b[0;34m(\u001b[0m\u001b[0mreso\u001b[0m\u001b[0;34m,\u001b[0m \u001b[0;34m''\u001b[0m\u001b[0;34m)\u001b[0m\u001b[0;34m)\u001b[0m\u001b[0;34m)\u001b[0m\u001b[0;34m)\u001b[0m\u001b[0;34m\u001b[0m\u001b[0m\n\u001b[1;32m      5\u001b[0m     \u001b[0;32mreturn\u001b[0m \u001b[0mhic_data\u001b[0m\u001b[0;34m\u001b[0m\u001b[0m\n",
      "\u001b[0;31mIOError\u001b[0m: [Errno 2] No such file or directory: 'results/fragment/200kb_both/04_normalizing/biases_mouse_B_200kb.pick'"
     ]
    }
   ],
   "source": [
    "hic_data = my_load_hic_data(cell, reso)"
   ]
  },
  {
   "cell_type": "code",
   "execution_count": null,
   "metadata": {},
   "outputs": [],
   "source": [
    "! mkdir -p results/fragment/$cell\\_both/05_segmenting"
   ]
  },
  {
   "cell_type": "code",
   "execution_count": null,
   "metadata": {},
   "outputs": [],
   "source": [
    "rich_in_A = get_gc_content(parse_fasta('genome/Mus_musculus-GRCm38.p6/Mus_musculus-GRCm38.p6.fa'), \n",
    "                           by_chrom=True ,resolution=reso, n_cpus=8)"
   ]
  },
  {
   "cell_type": "code",
   "execution_count": null,
   "metadata": {
    "scrolled": false
   },
   "outputs": [],
   "source": [
    "crm = 'chr3'\n",
    "corr = hic_data.find_compartments(\n",
    "        show=True, crms=[crm], vmin=-0.15, vmax=0.15, rich_in_A=rich_in_A,\n",
    "        savedata='results/fragmesnt/{0}_both/05_segmenting/compartments_{1}_{2}.tsv'.format(cell, crm, reso))"
   ]
  },
  {
   "cell_type": "code",
   "execution_count": null,
   "metadata": {
    "scrolled": false
   },
   "outputs": [],
   "source": [
    "crm = 'chr3'\n",
    "corr = hic_data.find_compartments(\n",
    "        show=True, crms=[crm], vmin=-0.15, vmax=0.15, rich_in_A=rich_in_A,\n",
    "        savedata='results/fragment/{0}_both/05_segmenting/compartments_{1}_{2}.tsv'.format(cell, crm, reso))"
   ]
  },
  {
   "cell_type": "code",
   "execution_count": null,
   "metadata": {},
   "outputs": [],
   "source": [
    "! head -n 20 results/fragment/mouse_PSC_both/05_segmenting/compartments_chr3_300000.tsv"
   ]
  },
  {
   "cell_type": "code",
   "execution_count": null,
   "metadata": {},
   "outputs": [],
   "source": [
    "! head -n 20 results/fragment/mouse_B_both/05_segmenting/compartments_chr3_300000.tsv"
   ]
  },
  {
   "cell_type": "markdown",
   "metadata": {},
   "source": [
    "# TADs"
   ]
  },
  {
   "cell_type": "code",
   "execution_count": null,
   "metadata": {},
   "outputs": [],
   "source": [
    "from pytadbit import Chromosome"
   ]
  },
  {
   "cell_type": "code",
   "execution_count": null,
   "metadata": {},
   "outputs": [],
   "source": [
    "chrname = 'chr19'\n",
    "crm = Chromosome(chrname)\n",
    "crm.add_experiment('mouse_B', \n",
    "                   hic_data='results/fragment/mouse_B_both/04_normalizing/100000_raw/%s.mat' % (chrname), \n",
    "                   norm_data='results/fragment/mouse_B_both/04_normalizing/100000_raw/%s.mat' % (chrname),\n",
    "                   resolution=100000)\n",
    "crm.add_experiment('mouse_PSC', \n",
    "                   hic_data='results/fragment/mouse_PSC_both/04_normalizing/100000_raw/%s.mat' % (chrname),\n",
    "                   norm_data='results/fragment/mouse_PSC_both/04_normalizing/100000_raw/%s.mat' % (chrname),\n",
    "                   resolution=100000)"
   ]
  },
  {
   "cell_type": "code",
   "execution_count": null,
   "metadata": {},
   "outputs": [],
   "source": [
    "crm.visualize([('mouse_B', 'mouse_PSC')])"
   ]
  },
  {
   "cell_type": "code",
   "execution_count": null,
   "metadata": {},
   "outputs": [],
   "source": [
    "crm.visualize([('mouse_B', 'mouse_PSC')], normalized=True)"
   ]
  },
  {
   "cell_type": "code",
   "execution_count": null,
   "metadata": {},
   "outputs": [],
   "source": [
    "crm.find_tad(['mouse_B', 'mouse_PSC'], n_cpus=8)"
   ]
  },
  {
   "cell_type": "code",
   "execution_count": null,
   "metadata": {},
   "outputs": [],
   "source": [
    "crm.visualize([('mouse_B', 'mouse_PSC')], normalized=True, paint_tads=True, )"
   ]
  },
  {
   "cell_type": "code",
   "execution_count": null,
   "metadata": {},
   "outputs": [],
   "source": [
    "crm.visualize([('mouse_B', 'mouse_PSC')], normalized=True, paint_tads=True, focus=(300, 400))"
   ]
  },
  {
   "cell_type": "code",
   "execution_count": null,
   "metadata": {},
   "outputs": [],
   "source": [
    "B = crm.experiments['mouse_B']\n",
    "PSC = crm.experiments['mouse_PSC']"
   ]
  },
  {
   "cell_type": "code",
   "execution_count": null,
   "metadata": {},
   "outputs": [],
   "source": [
    "crm.experiments"
   ]
  },
  {
   "cell_type": "markdown",
   "metadata": {},
   "source": [
    "## Save Chromosome object (with TAD definition)"
   ]
  },
  {
   "cell_type": "code",
   "execution_count": null,
   "metadata": {},
   "outputs": [],
   "source": [
    "crm.save_chromosome('results/fragment/chr3.tdb')"
   ]
  },
  {
   "cell_type": "code",
   "execution_count": null,
   "metadata": {},
   "outputs": [],
   "source": []
  }
 ],
 "metadata": {
  "hide_input": false,
  "kernelspec": {
   "display_name": "Python 2",
   "language": "python",
   "name": "python2"
  },
  "language_info": {
   "codemirror_mode": {
    "name": "ipython",
    "version": 2
   },
   "file_extension": ".py",
   "mimetype": "text/x-python",
   "name": "python",
   "nbconvert_exporter": "python",
   "pygments_lexer": "ipython2",
   "version": "2.7.15"
  },
  "toc": {
   "nav_menu": {},
   "number_sections": false,
   "sideBar": true,
   "skip_h1_title": false,
   "toc_cell": true,
   "toc_position": {
    "height": "968.264px",
    "left": "0px",
    "right": "1352.45px",
    "top": "109.722px",
    "width": "211.997px"
   },
   "toc_section_display": "block",
   "toc_window_display": true
  }
 },
 "nbformat": 4,
 "nbformat_minor": 1
}
