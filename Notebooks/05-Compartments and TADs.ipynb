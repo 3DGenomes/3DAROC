{
 "cells": [
  {
   "cell_type": "markdown",
   "metadata": {},
   "source": [
    "# Compartments"
   ]
  },
  {
   "cell_type": "markdown",
   "metadata": {},
   "source": [
    "Compartments are detected on the full genome matrix"
   ]
  },
  {
   "cell_type": "code",
   "execution_count": 6,
   "metadata": {
    "collapsed": false
   },
   "outputs": [],
   "source": [
    "from pytadbit.parsers.hic_parser import load_hic_data_from_reads\n",
    "from cPickle import load"
   ]
  },
  {
   "cell_type": "code",
   "execution_count": 7,
   "metadata": {
    "collapsed": true
   },
   "outputs": [],
   "source": [
    "r_enz = 'HindIII'\n",
    "rep   = 'T0'"
   ]
  },
  {
   "cell_type": "code",
   "execution_count": 8,
   "metadata": {
    "collapsed": true
   },
   "outputs": [],
   "source": [
    "reso = 200000\n",
    "base_path = 'results/fragment/{0}_{1}/03_filtering/valid_reads12_{0}_{1}.tsv'\n",
    "bias_path = 'results/fragment/{1}_{2}/04_normalizing/biases_{0}_{1}_{2}.pick'\n",
    "bads_path = 'results/fragment/{1}_{2}/04_normalizing/bad_columns_{0}_{1}_{2}.pick'"
   ]
  },
  {
   "cell_type": "code",
   "execution_count": 9,
   "metadata": {
    "collapsed": true
   },
   "outputs": [],
   "source": [
    "def my_load_hic_data(renz, rep, reso):\n",
    "    hic_data = load_hic_data_from_reads(base_path.format(renz, rep), resolution=reso)\n",
    "    hic_data.bias = load(open(bias_path.format(reso, renz, rep)))\n",
    "    hic_data.bads = load(open(bads_path.format(reso, renz, rep)))\n",
    "    return hic_data"
   ]
  },
  {
   "cell_type": "code",
   "execution_count": 12,
   "metadata": {
    "collapsed": false
   },
   "outputs": [],
   "source": [
    "hic_data = my_load_hic_data(r_enz, rep, reso)"
   ]
  },
  {
   "cell_type": "code",
   "execution_count": null,
   "metadata": {
    "collapsed": false
   },
   "outputs": [
    {
     "name": "stderr",
     "output_type": "stream",
     "text": [
      "/home/fransua/.miniconda2/lib/python2.7/site-packages/pytadbit/hic_data.py:640: UserWarning: WARNING: number of compartments found with the EigenVector number 1 is too low (23 compartments in 310 rows), for chromosome 20\n",
      "  > max_mean_size):\n",
      "/home/fransua/.miniconda2/lib/python2.7/site-packages/pytadbit/hic_data.py:640: UserWarning: WARNING: number of compartments found with the EigenVector number 2 is too low (60 compartments in 310 rows), for chromosome 20\n",
      "  > max_mean_size):\n",
      "/home/fransua/.miniconda2/lib/python2.7/site-packages/pytadbit/hic_data.py:646: UserWarning: WARNING: keeping first eigenvector, for chromosome 20\n",
      "  break\n",
      "/home/fransua/.miniconda2/lib/python2.7/site-packages/matplotlib/ticker.py:1932: RuntimeWarning: invalid value encountered in double_scalars\n",
      "  vmin, vmax = vmax, vmin\n",
      "/home/fransua/.miniconda2/lib/python2.7/site-packages/matplotlib/ticker.py:1933: RuntimeWarning: invalid value encountered in double_scalars\n",
      "  \n"
     ]
    }
   ],
   "source": [
    "hic_data.find_compartments(show=True)"
   ]
  },
  {
   "cell_type": "code",
   "execution_count": null,
   "metadata": {
    "collapsed": true
   },
   "outputs": [],
   "source": []
  }
 ],
 "metadata": {
  "kernelspec": {
   "display_name": "Python 2",
   "language": "python",
   "name": "python2"
  },
  "language_info": {
   "codemirror_mode": {
    "name": "ipython",
    "version": 2
   },
   "file_extension": ".py",
   "mimetype": "text/x-python",
   "name": "python",
   "nbconvert_exporter": "python",
   "pygments_lexer": "ipython2",
   "version": "2.7.12"
  }
 },
 "nbformat": 4,
 "nbformat_minor": 0
}
