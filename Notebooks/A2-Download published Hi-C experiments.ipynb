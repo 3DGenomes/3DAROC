{
 "cells": [
  {
   "cell_type": "markdown",
   "metadata": {},
   "source": [
    "## Download the data from NCBI"
   ]
  },
  {
   "cell_type": "markdown",
   "metadata": {},
   "source": [
    "We will use data from <a name=\"ref-1\"/>[(LeDily et al., 2014)](#cite-le2014distinct), which comes from T47D cells (cancer cell line), and where Hi-C experiment where conducted under two conditions, before and after treatment with hormone, and with two restriction enzyme.\n",
    "\n",
    "The data can be downloaded from:\n",
    "\n",
    "https://www.ncbi.nlm.nih.gov/geo/query/acc.cgi?acc=GSE53463\n",
    "\n",
    "Once downloaded the files can be passed to the FASTQ format in order for TADbit to read them. This can be done with the fastq-dump program from SRA Toolkit (http://www.ncbi.nlm.nih.gov/Traces/sra/sra.cgi?cmd=show&f=software&m=software&s=software)"
   ]
  },
  {
   "cell_type": "code",
   "execution_count": null,
   "metadata": {
    "collapsed": false
   },
   "outputs": [],
   "source": [
    "! fastq-dump SRR398318.sra"
   ]
  },
  {
   "cell_type": "markdown",
   "metadata": {},
   "source": [
    "_Note: alternatively you can also directly download the FASTQ from http://www.ebi.ac.uk/_"
   ]
  },
  {
   "cell_type": "markdown",
   "metadata": {},
   "source": [
    "### Compression"
   ]
  },
  {
   "cell_type": "markdown",
   "metadata": {},
   "source": [
    "Internally we use DSRC <a name=\"ref-1\"/>[(Roguski and Deorowicz, 2014)](#cite-roguski2014dsrc) that allows better compression ration and, more importatntly, faster decompression:"
   ]
  },
  {
   "cell_type": "code",
   "execution_count": null,
   "metadata": {
    "collapsed": false,
    "scrolled": true
   },
   "outputs": [],
   "source": [
    "! dsrc c -t8 SRR398318.fastq SRR398318.fastq.dsrc"
   ]
  },
  {
   "cell_type": "markdown",
   "metadata": {},
   "source": [
    "# References\n",
    "\n",
    "<a name=\"cite-le2014distinct\"/><sup>[^](#ref-1) </sup>Le Dily, Fran\\c{cois and Ba&ugrave;, Davide and Pohl, Andy and Vicent, Guillermo P and Serra, Fran\\c{cois and Soronellas, Daniel and Castellano, Giancarlo and Wright, Roni HG and Ballare, Cecilia and Filion, Guillaume and others. 2014. _Distinct structural transitions of chromatin topological domains correlate with coordinated hormone-induced gene regulation_.\n",
    "\n",
    "<a name=\"cite-roguski2014dsrc\"/><sup>[^](#ref-2) </sup>Roguski, \\Lukasz and Deorowicz, Sebastian. 2014. _DSRC 2—Industry-oriented compression of FASTQ files_.\n",
    "\n"
   ]
  },
  {
   "cell_type": "markdown",
   "metadata": {},
   "source": [
    "<!--bibtex\n",
    "@article{le2014distinct,\n",
    "  title={Distinct structural transitions of chromatin topological domains correlate with coordinated hormone-induced gene regulation},\n",
    "  author={Le Dily, Fran{\\c{c}}ois and Ba{\\`u}, Davide and Pohl, Andy and Vicent, Guillermo P and Serra, Fran{\\c{c}}ois and Soronellas, Daniel and Castellano, Giancarlo and Wright, Roni HG and Ballare, Cecilia and Filion, Guillaume and others},\n",
    "  journal={Genes \\& development},\n",
    "  volume={28},\n",
    "  number={19},\n",
    "  pages={2151--2162},\n",
    "  year={2014},\n",
    "  publisher={Cold Spring Harbor Lab}\n",
    "}\n",
    "@article{roguski2014dsrc,\n",
    "  title={DSRC 2—Industry-oriented compression of FASTQ files},\n",
    "  author={Roguski, {\\L}ukasz and Deorowicz, Sebastian},\n",
    "  journal={Bioinformatics},\n",
    "  volume={30},\n",
    "  number={15},\n",
    "  pages={2213--2215},\n",
    "  year={2014},\n",
    "  publisher={Oxford Univ Press}\n",
    "}\n",
    "-->"
   ]
  }
 ],
 "metadata": {
  "kernelspec": {
   "display_name": "Python 2",
   "language": "python",
   "name": "python2"
  },
  "language_info": {
   "codemirror_mode": {
    "name": "ipython",
    "version": 2
   },
   "file_extension": ".py",
   "mimetype": "text/x-python",
   "name": "python",
   "nbconvert_exporter": "python",
   "pygments_lexer": "ipython2",
   "version": "2.7.12"
  }
 },
 "nbformat": 4,
 "nbformat_minor": 0
}
